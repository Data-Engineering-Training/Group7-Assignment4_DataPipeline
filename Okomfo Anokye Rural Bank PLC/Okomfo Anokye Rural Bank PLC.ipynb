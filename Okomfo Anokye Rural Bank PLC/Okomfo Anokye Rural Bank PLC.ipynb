{
 "cells": [
  {
   "cell_type": "code",
   "execution_count": 3,
   "id": "d1637f27",
   "metadata": {},
   "outputs": [
    {
     "name": "stdout",
     "output_type": "stream",
     "text": [
      "Requirement already satisfied: Faker in c:\\users\\franca\\anaconda3\\lib\\site-packages (24.4.0)\n",
      "Requirement already satisfied: python-dateutil>=2.4 in c:\\users\\franca\\anaconda3\\lib\\site-packages (from Faker) (2.8.2)\n",
      "Requirement already satisfied: six>=1.5 in c:\\users\\franca\\anaconda3\\lib\\site-packages (from python-dateutil>=2.4->Faker) (1.16.0)\n",
      "Note: you may need to restart the kernel to use updated packages.\n"
     ]
    }
   ],
   "source": [
    "pip install Faker"
   ]
  },
  {
   "cell_type": "code",
   "execution_count": 3,
   "id": "361e22fe",
   "metadata": {},
   "outputs": [
    {
     "name": "stdout",
     "output_type": "stream",
     "text": [
      "Requirement already satisfied: pandas in c:\\users\\franca\\anaconda3\\lib\\site-packages (1.3.4)Note: you may need to restart the kernel to use updated packages.\n",
      "\n",
      "Requirement already satisfied: python-dateutil>=2.7.3 in c:\\users\\franca\\anaconda3\\lib\\site-packages (from pandas) (2.8.2)\n",
      "Requirement already satisfied: pytz>=2017.3 in c:\\users\\franca\\anaconda3\\lib\\site-packages (from pandas) (2021.3)\n",
      "Requirement already satisfied: numpy>=1.17.3 in c:\\users\\franca\\anaconda3\\lib\\site-packages (from pandas) (1.20.3)\n",
      "Requirement already satisfied: six>=1.5 in c:\\users\\franca\\anaconda3\\lib\\site-packages (from python-dateutil>=2.7.3->pandas) (1.16.0)\n"
     ]
    }
   ],
   "source": [
    "pip install pandas"
   ]
  },
  {
   "cell_type": "code",
   "execution_count": 4,
   "id": "8f90673e",
   "metadata": {},
   "outputs": [
    {
     "name": "stdout",
     "output_type": "stream",
     "text": [
      "Requirement already satisfied: numpy in c:\\users\\franca\\anaconda3\\lib\\site-packages (1.20.3)Note: you may need to restart the kernel to use updated packages.\n",
      "\n"
     ]
    }
   ],
   "source": [
    "pip install numpy"
   ]
  },
  {
   "cell_type": "code",
   "execution_count": 1,
   "id": "e763d72a",
   "metadata": {},
   "outputs": [],
   "source": [
    "from faker import Faker\n",
    "import pandas as pd\n",
    "import numpy as np\n",
    "import random"
   ]
  },
  {
   "cell_type": "code",
   "execution_count": 2,
   "id": "78f2f366",
   "metadata": {},
   "outputs": [],
   "source": [
    "fake = Faker(LOCALE = 'en_GH')"
   ]
  },
  {
   "cell_type": "code",
   "execution_count": 24,
   "id": "044bf7fb",
   "metadata": {},
   "outputs": [],
   "source": [
    "def number_of_records(records):\n",
    "    for _ in range(records):\n",
    "        customer_ID.append(fake.pyint())\n",
    "    for _ in range(records):\n",
    "        customer_Name.append(fake.name())\n",
    "    for _ in range(records):\n",
    "        customer_Email.append(fake.email())\n",
    "    for _ in range(records):\n",
    "        phone_Number.append(fake.phone_number())\n",
    "    for _ in range(records):\n",
    "        customer_Address.append(fake.address())\n",
    "    for _ in range(records):\n",
    "        transaction_Activity.append(random.choice([\"Savings\", \"Loans\"]))\n",
    "    for _ in range(records):\n",
    "        transaction_ID.append(fake.pyint())\n",
    "    for _ in range(records):\n",
    "        transaction_Type.append(random.choice([\"Debit\", \"Credit\"]))\n",
    "    for _ in range(records):\n",
    "        transaction_Amount.append(random.randint(100, 999999))\n",
    "    for _ in range(records):\n",
    "        transaction_Date.append(fake.date_time_between_dates('-1y','now'))\n",
    "    for _ in range(records):\n",
    "        customer_Preferences.append(random.choice([\"App\", \"Website\"]))\n",
    "    for _ in range(records):\n",
    "        communication_Methods.append(random.choice([\"Email\", \"Calls\", \"SMS\"]))"
   ]
  },
  {
   "cell_type": "code",
   "execution_count": null,
   "id": "e3bd071d",
   "metadata": {
    "scrolled": false
   },
   "outputs": [],
   "source": [
    "customer_ID = []\n",
    "customer_Name = []\n",
    "customer_Email = []\n",
    "phone_Number = []\n",
    "customer_Address = []\n",
    "transaction_Activity = []\n",
    "transaction_ID = []\n",
    "transaction_Type = []\n",
    "transaction_Amount = []\n",
    "transaction_Date = []\n",
    "customer_Preferences = [\"App\", \"Website\"]\n",
    "communication_Methods = [\"Email\", \"Calls\", \"SMS\"]\n",
    "\n",
    "number_of_records(100000)\n",
    "df = pd.DataFrame(zip(customer_ID,customer_Name,customer_Email,phone_Number,customer_Address,transaction_Activity,transaction_ID,transaction_Type,transaction_Amount,transaction_Date,customer_Preferences,communication_Methods), columns=['customer_ID','customer_Name','customer_Email','phone_Number','customer_Address','transaction_Activity','transaction_ID','transaction_Type','transaction_Amount','transaction_Date','customer_Preferences','communication_Methods'])\n",
    "\n",
    "df.to_csv('number_of_records.csv', index=False)"
   ]
  },
  {
   "cell_type": "code",
   "execution_count": 22,
   "id": "5e7a2faf",
   "metadata": {},
   "outputs": [
    {
     "data": {
      "text/plain": [
       "(100000, 12)"
      ]
     },
     "execution_count": 22,
     "metadata": {},
     "output_type": "execute_result"
    }
   ],
   "source": [
    "df.shape"
   ]
  },
  {
   "cell_type": "code",
   "execution_count": null,
   "id": "39664f08",
   "metadata": {},
   "outputs": [],
   "source": [
    "df.head()"
   ]
  },
  {
   "cell_type": "code",
   "execution_count": null,
   "id": "77bef0da",
   "metadata": {},
   "outputs": [],
   "source": [
    "df.tail()"
   ]
  }
 ],
 "metadata": {
  "kernelspec": {
   "display_name": "Python 3 (ipykernel)",
   "language": "python",
   "name": "python3"
  },
  "language_info": {
   "codemirror_mode": {
    "name": "ipython",
    "version": 3
   },
   "file_extension": ".py",
   "mimetype": "text/x-python",
   "name": "python",
   "nbconvert_exporter": "python",
   "pygments_lexer": "ipython3",
   "version": "3.9.7"
  }
 },
 "nbformat": 4,
 "nbformat_minor": 5
}
